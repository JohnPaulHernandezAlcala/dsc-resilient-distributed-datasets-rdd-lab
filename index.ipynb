{
 "cells": [
  {
   "cell_type": "markdown",
   "metadata": {
    "id": "0E2AKE_jAEKh"
   },
   "source": [
    "## Resilient Distributed Datasets (RDDs) - Lab\n",
    "\n",
    "Resilient Distributed Datasets (RDD) are fundamental data structures of Spark. An RDD is essentially the Spark representation of a set of data, spread across multiple machines, with APIs to let you act on it. An RDD can come from any data source, e.g. text files, a database, a JSON file, etc.\n",
    "\n",
    "\n",
    "## Objectives\n",
    "\n",
    "You will be able to:\n",
    "\n",
    "- Apply the map(func) transformation to a given function on all elements of an RDD in different partitions \n",
    "- Apply a map transformation for all elements of an RDD \n",
    "- Compare the difference between a transformation and an action within RDDs \n",
    "- Use collect(), count(), and take() actions to trigger spark transformations  \n",
    "- Use filter to select data that meets certain specifications within an RDD \n",
    "- Set number of partitions for parallelizing RDDs \n",
    "- Create RDDs from Python collections \n"
   ]
  },
  {
   "cell_type": "markdown",
   "metadata": {
    "id": "gPUkBB0aAEKi"
   },
   "source": [
    "## What are RDDs? \n",
    "\n",
    "To get a better understanding of RDDs, let's break down each one of the components of the acronym RDD:\n",
    "\n",
    "Resilient: RDDs are considered \"resilient\" because they have built-in fault tolerance. This means that even if one of the nodes goes offline, RDDs will be able to restore the data. This is already a huge advantage compared to standard storage. If a standard computer dies while performing an operation, all of its memory will be lost in the process. With RDDs, multiple nodes can go offline, and the action will still be held in working memory.\n",
    "\n",
    "Distributed: The data is contained on multiple nodes of a cluster-computing operation. It is efficiently partitioned to allow for parallelism.\n",
    "\n",
    "Dataset: The dataset has been * partitioned * across the multiple nodes. \n",
    "\n",
    "RDDs are the building block upon which more high-level Spark operations are based upon. Chances are, if you are performing an action using Spark, the operation involves RDDs. \n",
    "\n",
    "\n",
    "\n",
    "Key Characteristics of RDDs:\n",
    "\n",
    "- Immutable: Once an RDD is created, it cannot be modified. \n",
    "- Lazily Evaluated: RDDs will not be evaluated until an action is triggered. Essentially, when RDDs are created, they are programmed to perform some action, but that function will not get activated until it is explicitly called. The reason for lazy evaluation is that allows users to organize the actions of their Spark program into smaller actions. It also saves unnecessary computation and memory load.\n",
    "- In-Memory: The operations in Spark are performed in-memory rather than in the database. This is what allows Spark to perform fast operations with very large quantities of data.\n",
    "\n",
    "\n"
   ]
  },
  {
   "cell_type": "markdown",
   "metadata": {
    "id": "5M6TtNLuAEKi"
   },
   "source": [
    "### RDD Transformations vs Actions\n",
    "\n",
    "In Spark, we first create a __base RDD__ and then apply one or more transformations to that base RDD following our processing needs. Being immutable means, **once an RDD is created, it cannot be changed**. As a result, **each transformation of an RDD creates a new RDD**. Finally, we can apply one or more **actions** to the RDDs. Spark uses lazy evaluation, so transformations are not actually executed until an action occurs.\n",
    "\n",
    "\n",
    "<img src=\"./images/rdd_diagram.png\" width=500>"
   ]
  },
  {
   "cell_type": "markdown",
   "metadata": {
    "id": "k4hxzOvzAEKi"
   },
   "source": [
    "### Transformations\n",
    "\n",
    "Transformations create a new dataset from an existing one by passing each dataset element through a function and returning a new RDD representing the results. In short, creating an RDD from an existing RDD is ‘transformation’.\n",
    "All transformations in Spark are lazy. They do not compute their results right away. Instead, they just remember the transformations applied to some base dataset (e.g. a file). The transformations are only computed when an action requires a result that needs to be returned to the driver program.\n",
    "A transformation is an RDD that returns another RDD, like map, flatMap, filter, reduceByKey, join, cogroup, etc.\n",
    "\n",
    "### Actions\n",
    "Actions return final results of RDD computations. Actions trigger execution using lineage graph to load the data into original RDD and carry out all intermediate transformations and return the final results to the driver program or writes it out to the file system. An action returns a value (to a Spark driver - the user program).\n",
    "\n",
    "Here are some key transformations and actions that we will explore.\n",
    "\n",
    "\n",
    "| Transformations   | Actions       |\n",
    "|-------------------|---------------|\n",
    "| map(func)         | reduce(func)  |\n",
    "| filter(func)      | collect()     |\n",
    "| groupByKey()      | count()       |\n",
    "| reduceByKey(func) | first()       |\n",
    "| mapValues(func)   | take()        |\n",
    "| sample()          | countByKey()  |\n",
    "| distinct()        | foreach(func) |\n",
    "| sortByKey()       |               |\n"
   ]
  },
  {
   "cell_type": "markdown",
   "metadata": {
    "id": "1xsRFfg4AEKj"
   },
   "source": [
    "Let's see how transformations and actions work through a simple example. In this example, we will perform several actions and transformations on RDDs in order to obtain a better understanding of Spark processing. \n",
    "\n",
    "### Create a Python collection \n",
    "\n",
    "We need some data to start experimenting with RDDs. Let's create some sample data and see how RDDs handle it. To practice working with RDDs, we're going to use a simple Python list.\n",
    "\n",
    "- Create a Python list `data` of integers between 1 and 1000 using the `range()` function. \n",
    "- Sanity check: confirm the length of the list (it should be 1000)"
   ]
  },
  {
   "cell_type": "markdown",
   "metadata": {},
   "source": [
    "EVERYTHING DONE ON GOOGLE COLAB"
   ]
  },
  {
   "cell_type": "code",
   "execution_count": 1,
   "metadata": {
    "executionInfo": {
     "elapsed": 22134,
     "status": "ok",
     "timestamp": 1601067032846,
     "user": {
      "displayName": "John Paul Hernandez",
      "photoUrl": "https://lh3.googleusercontent.com/a-/AOh14Gh5XuF9KA7x-2kMxR2qfYuAQXkju-3nakGwwKyLXw=s64",
      "userId": "12382617884956783957"
     },
     "user_tz": 300
    },
    "id": "be4Ai8YxAG31"
   },
   "outputs": [],
   "source": [
    "# innstall java\n",
    "!apt-get install openjdk-8-jdk-headless -qq > /dev/null\n",
    "\n",
    "# install spark (change the version number if needed)\n",
    "!wget -q https://downloads.apache.org/spark/spark-2.4.7/spark-2.4.7-bin-hadoop2.7.tgz\n",
    "\n",
    "# unzip the spark file to the current folder\n",
    "!tar xf spark-2.4.7-bin-hadoop2.7.tgz\n",
    "\n",
    "# install findspark using pip\n",
    "!pip install -q findspark\n",
    "\n",
    "import os\n",
    "os.environ[\"JAVA_HOME\"] = \"/usr/lib/jvm/java-1.8.0-openjdk-amd64\"\n",
    "os.environ[\"SPARK_HOME\"] = \"/content/spark-2.4.7-bin-hadoop2.7\"\n",
    "\n",
    "import findspark\n",
    "findspark.init()\n",
    "import pyspark"
   ]
  },
  {
   "cell_type": "code",
   "execution_count": 2,
   "metadata": {
    "colab": {
     "base_uri": "https://localhost:8080/",
     "height": 34
    },
    "executionInfo": {
     "elapsed": 488,
     "status": "ok",
     "timestamp": 1601067072339,
     "user": {
      "displayName": "John Paul Hernandez",
      "photoUrl": "https://lh3.googleusercontent.com/a-/AOh14Gh5XuF9KA7x-2kMxR2qfYuAQXkju-3nakGwwKyLXw=s64",
      "userId": "12382617884956783957"
     },
     "user_tz": 300
    },
    "id": "HksFilt9AEKj",
    "outputId": "2db483b2-1e13-4a4c-da7c-a4f9b5d8985e"
   },
   "outputs": [
    {
     "data": {
      "text/plain": [
       "1000"
      ]
     },
     "execution_count": 2,
     "metadata": {
      "tags": []
     },
     "output_type": "execute_result"
    }
   ],
   "source": [
    "data = list(range(1,1001))\n",
    "len(data)\n",
    "\n",
    "# 1000"
   ]
  },
  {
   "cell_type": "markdown",
   "metadata": {
    "id": "jah0v6Z2AEKm"
   },
   "source": [
    "### Initialize an RDD\n",
    "\n",
    "When using Spark to make computations, datasets are treated as lists of entries. Those lists are split into different partitions across different cores or different computers. Each list of data held in memory is a partition of the RDD. The reason why Spark is able to make computations far faster than other big data processing languages is that it allows all data to be stored __in-memory__, which allows for easy access to the data and, in turn, high-speed processing. Here is an example of how the alphabet might be split into different RDDs and held across a distributed collection of nodes:\n",
    "\n",
    "<img src =\"./images/partitions_1.png\" width =\"500\">  \n",
    "To initialize an RDD, first import `pyspark` and then create a SparkContext assigned to the variable `sc`. Use `'local[*]'` as the master."
   ]
  },
  {
   "cell_type": "code",
   "execution_count": 3,
   "metadata": {
    "executionInfo": {
     "elapsed": 4104,
     "status": "ok",
     "timestamp": 1601067174217,
     "user": {
      "displayName": "John Paul Hernandez",
      "photoUrl": "https://lh3.googleusercontent.com/a-/AOh14Gh5XuF9KA7x-2kMxR2qfYuAQXkju-3nakGwwKyLXw=s64",
      "userId": "12382617884956783957"
     },
     "user_tz": 300
    },
    "id": "Mtzvb2L-AEKm"
   },
   "outputs": [],
   "source": [
    "sc = pyspark.SparkContext('local[*]')"
   ]
  },
  {
   "cell_type": "markdown",
   "metadata": {
    "id": "8Rzwog-WAEKo"
   },
   "source": [
    "Once you've created the SparkContext, you can use the `.parallelize()` method to create an RDD that will distribute the list of numbers across multiple cores. Here, create one called `rdd` with 10 partitions using `data` as the collection you are parallelizing."
   ]
  },
  {
   "cell_type": "code",
   "execution_count": 4,
   "metadata": {
    "colab": {
     "base_uri": "https://localhost:8080/",
     "height": 34
    },
    "executionInfo": {
     "elapsed": 662,
     "status": "ok",
     "timestamp": 1601067255890,
     "user": {
      "displayName": "John Paul Hernandez",
      "photoUrl": "https://lh3.googleusercontent.com/a-/AOh14Gh5XuF9KA7x-2kMxR2qfYuAQXkju-3nakGwwKyLXw=s64",
      "userId": "12382617884956783957"
     },
     "user_tz": 300
    },
    "id": "EcgVISsZAEKo",
    "outputId": "bc015375-0707-436f-adb7-44eb0c9fa45f"
   },
   "outputs": [
    {
     "name": "stdout",
     "output_type": "stream",
     "text": [
      "<class 'pyspark.rdd.RDD'>\n"
     ]
    }
   ],
   "source": [
    "rdd = sc.parallelize(c=data, numSlices=10)\n",
    "print(type(rdd))\n",
    "# <class 'pyspark.rdd.RDD'>"
   ]
  },
  {
   "cell_type": "markdown",
   "metadata": {
    "id": "60FrcVxkAEKq"
   },
   "source": [
    "Determine how many partitions are being used with this RDD with the `.getNumPartitions()` method."
   ]
  },
  {
   "cell_type": "code",
   "execution_count": 5,
   "metadata": {
    "colab": {
     "base_uri": "https://localhost:8080/",
     "height": 34
    },
    "executionInfo": {
     "elapsed": 426,
     "status": "ok",
     "timestamp": 1601067269722,
     "user": {
      "displayName": "John Paul Hernandez",
      "photoUrl": "https://lh3.googleusercontent.com/a-/AOh14Gh5XuF9KA7x-2kMxR2qfYuAQXkju-3nakGwwKyLXw=s64",
      "userId": "12382617884956783957"
     },
     "user_tz": 300
    },
    "id": "tZoDdy-uAEKr",
    "outputId": "23c3c974-1053-4b22-8db6-0f3ab6cebba2"
   },
   "outputs": [
    {
     "data": {
      "text/plain": [
       "10"
      ]
     },
     "execution_count": 5,
     "metadata": {
      "tags": []
     },
     "output_type": "execute_result"
    }
   ],
   "source": [
    "rdd.getNumPartitions()\n",
    "# 10"
   ]
  },
  {
   "cell_type": "markdown",
   "metadata": {
    "id": "YNY_casZAEKt"
   },
   "source": [
    "### Basic descriptive RDD actions\n",
    "\n",
    "Let's perform some basic operations on our RDD. In the cell below, use the methods:\n",
    "* `count`: returns the total count of items in the RDD \n",
    "* `first`: returns the first item in the RDD\n",
    "* `take`: returns the first `n` items in the RDD\n",
    "* `top`: returns the top `n` items\n",
    "* `collect`: returns everything from your RDD\n",
    "\n",
    "\n",
    "It's important to note that in a big data context, calling the collect method will often take a very long time to execute and should be handled with care!"
   ]
  },
  {
   "cell_type": "code",
   "execution_count": 6,
   "metadata": {
    "colab": {
     "base_uri": "https://localhost:8080/",
     "height": 34
    },
    "executionInfo": {
     "elapsed": 2060,
     "status": "ok",
     "timestamp": 1601067338657,
     "user": {
      "displayName": "John Paul Hernandez",
      "photoUrl": "https://lh3.googleusercontent.com/a-/AOh14Gh5XuF9KA7x-2kMxR2qfYuAQXkju-3nakGwwKyLXw=s64",
      "userId": "12382617884956783957"
     },
     "user_tz": 300
    },
    "id": "HSwo_vo1AEKt",
    "outputId": "2e75e39f-594e-42d8-8206-fc69416fdc8a",
    "scrolled": true
   },
   "outputs": [
    {
     "data": {
      "text/plain": [
       "1000"
      ]
     },
     "execution_count": 6,
     "metadata": {
      "tags": []
     },
     "output_type": "execute_result"
    }
   ],
   "source": [
    "# count\n",
    "rdd.count()"
   ]
  },
  {
   "cell_type": "code",
   "execution_count": 7,
   "metadata": {
    "colab": {
     "base_uri": "https://localhost:8080/",
     "height": 34
    },
    "executionInfo": {
     "elapsed": 456,
     "status": "ok",
     "timestamp": 1601067363076,
     "user": {
      "displayName": "John Paul Hernandez",
      "photoUrl": "https://lh3.googleusercontent.com/a-/AOh14Gh5XuF9KA7x-2kMxR2qfYuAQXkju-3nakGwwKyLXw=s64",
      "userId": "12382617884956783957"
     },
     "user_tz": 300
    },
    "id": "zjUTtoD3AEKw",
    "outputId": "834f5d94-2b36-4f8b-fca8-0fa6ed8414d7"
   },
   "outputs": [
    {
     "data": {
      "text/plain": [
       "1"
      ]
     },
     "execution_count": 7,
     "metadata": {
      "tags": []
     },
     "output_type": "execute_result"
    }
   ],
   "source": [
    "# first\n",
    "rdd.first()"
   ]
  },
  {
   "cell_type": "code",
   "execution_count": 10,
   "metadata": {
    "colab": {
     "base_uri": "https://localhost:8080/",
     "height": 34
    },
    "executionInfo": {
     "elapsed": 475,
     "status": "ok",
     "timestamp": 1601067401328,
     "user": {
      "displayName": "John Paul Hernandez",
      "photoUrl": "https://lh3.googleusercontent.com/a-/AOh14Gh5XuF9KA7x-2kMxR2qfYuAQXkju-3nakGwwKyLXw=s64",
      "userId": "12382617884956783957"
     },
     "user_tz": 300
    },
    "id": "d52J1tWAAEKy",
    "outputId": "21720166-7326-4049-92fd-26a71f56f6e5"
   },
   "outputs": [
    {
     "data": {
      "text/plain": [
       "[1, 2, 3]"
      ]
     },
     "execution_count": 10,
     "metadata": {
      "tags": []
     },
     "output_type": "execute_result"
    }
   ],
   "source": [
    "# take\n",
    "rdd.take(3)"
   ]
  },
  {
   "cell_type": "code",
   "execution_count": 11,
   "metadata": {
    "colab": {
     "base_uri": "https://localhost:8080/",
     "height": 34
    },
    "executionInfo": {
     "elapsed": 647,
     "status": "ok",
     "timestamp": 1601067422715,
     "user": {
      "displayName": "John Paul Hernandez",
      "photoUrl": "https://lh3.googleusercontent.com/a-/AOh14Gh5XuF9KA7x-2kMxR2qfYuAQXkju-3nakGwwKyLXw=s64",
      "userId": "12382617884956783957"
     },
     "user_tz": 300
    },
    "id": "ljS40lXqAEKz",
    "outputId": "82572d9c-59b0-4dce-f082-1cb449d63066"
   },
   "outputs": [
    {
     "data": {
      "text/plain": [
       "[1000, 999, 998]"
      ]
     },
     "execution_count": 11,
     "metadata": {
      "tags": []
     },
     "output_type": "execute_result"
    }
   ],
   "source": [
    "# top\n",
    "rdd.top(3)"
   ]
  },
  {
   "cell_type": "code",
   "execution_count": 12,
   "metadata": {
    "colab": {
     "base_uri": "https://localhost:8080/",
     "height": 1000
    },
    "executionInfo": {
     "elapsed": 452,
     "status": "ok",
     "timestamp": 1601067455103,
     "user": {
      "displayName": "John Paul Hernandez",
      "photoUrl": "https://lh3.googleusercontent.com/a-/AOh14Gh5XuF9KA7x-2kMxR2qfYuAQXkju-3nakGwwKyLXw=s64",
      "userId": "12382617884956783957"
     },
     "user_tz": 300
    },
    "id": "5uCd3gZZAEK1",
    "outputId": "9485f189-47b3-4920-8110-df8b3c9b976c",
    "scrolled": true
   },
   "outputs": [
    {
     "data": {
      "text/plain": [
       "[1,\n",
       " 2,\n",
       " 3,\n",
       " 4,\n",
       " 5,\n",
       " 6,\n",
       " 7,\n",
       " 8,\n",
       " 9,\n",
       " 10,\n",
       " 11,\n",
       " 12,\n",
       " 13,\n",
       " 14,\n",
       " 15,\n",
       " 16,\n",
       " 17,\n",
       " 18,\n",
       " 19,\n",
       " 20,\n",
       " 21,\n",
       " 22,\n",
       " 23,\n",
       " 24,\n",
       " 25,\n",
       " 26,\n",
       " 27,\n",
       " 28,\n",
       " 29,\n",
       " 30,\n",
       " 31,\n",
       " 32,\n",
       " 33,\n",
       " 34,\n",
       " 35,\n",
       " 36,\n",
       " 37,\n",
       " 38,\n",
       " 39,\n",
       " 40,\n",
       " 41,\n",
       " 42,\n",
       " 43,\n",
       " 44,\n",
       " 45,\n",
       " 46,\n",
       " 47,\n",
       " 48,\n",
       " 49,\n",
       " 50,\n",
       " 51,\n",
       " 52,\n",
       " 53,\n",
       " 54,\n",
       " 55,\n",
       " 56,\n",
       " 57,\n",
       " 58,\n",
       " 59,\n",
       " 60,\n",
       " 61,\n",
       " 62,\n",
       " 63,\n",
       " 64,\n",
       " 65,\n",
       " 66,\n",
       " 67,\n",
       " 68,\n",
       " 69,\n",
       " 70,\n",
       " 71,\n",
       " 72,\n",
       " 73,\n",
       " 74,\n",
       " 75,\n",
       " 76,\n",
       " 77,\n",
       " 78,\n",
       " 79,\n",
       " 80,\n",
       " 81,\n",
       " 82,\n",
       " 83,\n",
       " 84,\n",
       " 85,\n",
       " 86,\n",
       " 87,\n",
       " 88,\n",
       " 89,\n",
       " 90,\n",
       " 91,\n",
       " 92,\n",
       " 93,\n",
       " 94,\n",
       " 95,\n",
       " 96,\n",
       " 97,\n",
       " 98,\n",
       " 99,\n",
       " 100,\n",
       " 101,\n",
       " 102,\n",
       " 103,\n",
       " 104,\n",
       " 105,\n",
       " 106,\n",
       " 107,\n",
       " 108,\n",
       " 109,\n",
       " 110,\n",
       " 111,\n",
       " 112,\n",
       " 113,\n",
       " 114,\n",
       " 115,\n",
       " 116,\n",
       " 117,\n",
       " 118,\n",
       " 119,\n",
       " 120,\n",
       " 121,\n",
       " 122,\n",
       " 123,\n",
       " 124,\n",
       " 125,\n",
       " 126,\n",
       " 127,\n",
       " 128,\n",
       " 129,\n",
       " 130,\n",
       " 131,\n",
       " 132,\n",
       " 133,\n",
       " 134,\n",
       " 135,\n",
       " 136,\n",
       " 137,\n",
       " 138,\n",
       " 139,\n",
       " 140,\n",
       " 141,\n",
       " 142,\n",
       " 143,\n",
       " 144,\n",
       " 145,\n",
       " 146,\n",
       " 147,\n",
       " 148,\n",
       " 149,\n",
       " 150,\n",
       " 151,\n",
       " 152,\n",
       " 153,\n",
       " 154,\n",
       " 155,\n",
       " 156,\n",
       " 157,\n",
       " 158,\n",
       " 159,\n",
       " 160,\n",
       " 161,\n",
       " 162,\n",
       " 163,\n",
       " 164,\n",
       " 165,\n",
       " 166,\n",
       " 167,\n",
       " 168,\n",
       " 169,\n",
       " 170,\n",
       " 171,\n",
       " 172,\n",
       " 173,\n",
       " 174,\n",
       " 175,\n",
       " 176,\n",
       " 177,\n",
       " 178,\n",
       " 179,\n",
       " 180,\n",
       " 181,\n",
       " 182,\n",
       " 183,\n",
       " 184,\n",
       " 185,\n",
       " 186,\n",
       " 187,\n",
       " 188,\n",
       " 189,\n",
       " 190,\n",
       " 191,\n",
       " 192,\n",
       " 193,\n",
       " 194,\n",
       " 195,\n",
       " 196,\n",
       " 197,\n",
       " 198,\n",
       " 199,\n",
       " 200,\n",
       " 201,\n",
       " 202,\n",
       " 203,\n",
       " 204,\n",
       " 205,\n",
       " 206,\n",
       " 207,\n",
       " 208,\n",
       " 209,\n",
       " 210,\n",
       " 211,\n",
       " 212,\n",
       " 213,\n",
       " 214,\n",
       " 215,\n",
       " 216,\n",
       " 217,\n",
       " 218,\n",
       " 219,\n",
       " 220,\n",
       " 221,\n",
       " 222,\n",
       " 223,\n",
       " 224,\n",
       " 225,\n",
       " 226,\n",
       " 227,\n",
       " 228,\n",
       " 229,\n",
       " 230,\n",
       " 231,\n",
       " 232,\n",
       " 233,\n",
       " 234,\n",
       " 235,\n",
       " 236,\n",
       " 237,\n",
       " 238,\n",
       " 239,\n",
       " 240,\n",
       " 241,\n",
       " 242,\n",
       " 243,\n",
       " 244,\n",
       " 245,\n",
       " 246,\n",
       " 247,\n",
       " 248,\n",
       " 249,\n",
       " 250,\n",
       " 251,\n",
       " 252,\n",
       " 253,\n",
       " 254,\n",
       " 255,\n",
       " 256,\n",
       " 257,\n",
       " 258,\n",
       " 259,\n",
       " 260,\n",
       " 261,\n",
       " 262,\n",
       " 263,\n",
       " 264,\n",
       " 265,\n",
       " 266,\n",
       " 267,\n",
       " 268,\n",
       " 269,\n",
       " 270,\n",
       " 271,\n",
       " 272,\n",
       " 273,\n",
       " 274,\n",
       " 275,\n",
       " 276,\n",
       " 277,\n",
       " 278,\n",
       " 279,\n",
       " 280,\n",
       " 281,\n",
       " 282,\n",
       " 283,\n",
       " 284,\n",
       " 285,\n",
       " 286,\n",
       " 287,\n",
       " 288,\n",
       " 289,\n",
       " 290,\n",
       " 291,\n",
       " 292,\n",
       " 293,\n",
       " 294,\n",
       " 295,\n",
       " 296,\n",
       " 297,\n",
       " 298,\n",
       " 299,\n",
       " 300,\n",
       " 301,\n",
       " 302,\n",
       " 303,\n",
       " 304,\n",
       " 305,\n",
       " 306,\n",
       " 307,\n",
       " 308,\n",
       " 309,\n",
       " 310,\n",
       " 311,\n",
       " 312,\n",
       " 313,\n",
       " 314,\n",
       " 315,\n",
       " 316,\n",
       " 317,\n",
       " 318,\n",
       " 319,\n",
       " 320,\n",
       " 321,\n",
       " 322,\n",
       " 323,\n",
       " 324,\n",
       " 325,\n",
       " 326,\n",
       " 327,\n",
       " 328,\n",
       " 329,\n",
       " 330,\n",
       " 331,\n",
       " 332,\n",
       " 333,\n",
       " 334,\n",
       " 335,\n",
       " 336,\n",
       " 337,\n",
       " 338,\n",
       " 339,\n",
       " 340,\n",
       " 341,\n",
       " 342,\n",
       " 343,\n",
       " 344,\n",
       " 345,\n",
       " 346,\n",
       " 347,\n",
       " 348,\n",
       " 349,\n",
       " 350,\n",
       " 351,\n",
       " 352,\n",
       " 353,\n",
       " 354,\n",
       " 355,\n",
       " 356,\n",
       " 357,\n",
       " 358,\n",
       " 359,\n",
       " 360,\n",
       " 361,\n",
       " 362,\n",
       " 363,\n",
       " 364,\n",
       " 365,\n",
       " 366,\n",
       " 367,\n",
       " 368,\n",
       " 369,\n",
       " 370,\n",
       " 371,\n",
       " 372,\n",
       " 373,\n",
       " 374,\n",
       " 375,\n",
       " 376,\n",
       " 377,\n",
       " 378,\n",
       " 379,\n",
       " 380,\n",
       " 381,\n",
       " 382,\n",
       " 383,\n",
       " 384,\n",
       " 385,\n",
       " 386,\n",
       " 387,\n",
       " 388,\n",
       " 389,\n",
       " 390,\n",
       " 391,\n",
       " 392,\n",
       " 393,\n",
       " 394,\n",
       " 395,\n",
       " 396,\n",
       " 397,\n",
       " 398,\n",
       " 399,\n",
       " 400,\n",
       " 401,\n",
       " 402,\n",
       " 403,\n",
       " 404,\n",
       " 405,\n",
       " 406,\n",
       " 407,\n",
       " 408,\n",
       " 409,\n",
       " 410,\n",
       " 411,\n",
       " 412,\n",
       " 413,\n",
       " 414,\n",
       " 415,\n",
       " 416,\n",
       " 417,\n",
       " 418,\n",
       " 419,\n",
       " 420,\n",
       " 421,\n",
       " 422,\n",
       " 423,\n",
       " 424,\n",
       " 425,\n",
       " 426,\n",
       " 427,\n",
       " 428,\n",
       " 429,\n",
       " 430,\n",
       " 431,\n",
       " 432,\n",
       " 433,\n",
       " 434,\n",
       " 435,\n",
       " 436,\n",
       " 437,\n",
       " 438,\n",
       " 439,\n",
       " 440,\n",
       " 441,\n",
       " 442,\n",
       " 443,\n",
       " 444,\n",
       " 445,\n",
       " 446,\n",
       " 447,\n",
       " 448,\n",
       " 449,\n",
       " 450,\n",
       " 451,\n",
       " 452,\n",
       " 453,\n",
       " 454,\n",
       " 455,\n",
       " 456,\n",
       " 457,\n",
       " 458,\n",
       " 459,\n",
       " 460,\n",
       " 461,\n",
       " 462,\n",
       " 463,\n",
       " 464,\n",
       " 465,\n",
       " 466,\n",
       " 467,\n",
       " 468,\n",
       " 469,\n",
       " 470,\n",
       " 471,\n",
       " 472,\n",
       " 473,\n",
       " 474,\n",
       " 475,\n",
       " 476,\n",
       " 477,\n",
       " 478,\n",
       " 479,\n",
       " 480,\n",
       " 481,\n",
       " 482,\n",
       " 483,\n",
       " 484,\n",
       " 485,\n",
       " 486,\n",
       " 487,\n",
       " 488,\n",
       " 489,\n",
       " 490,\n",
       " 491,\n",
       " 492,\n",
       " 493,\n",
       " 494,\n",
       " 495,\n",
       " 496,\n",
       " 497,\n",
       " 498,\n",
       " 499,\n",
       " 500,\n",
       " 501,\n",
       " 502,\n",
       " 503,\n",
       " 504,\n",
       " 505,\n",
       " 506,\n",
       " 507,\n",
       " 508,\n",
       " 509,\n",
       " 510,\n",
       " 511,\n",
       " 512,\n",
       " 513,\n",
       " 514,\n",
       " 515,\n",
       " 516,\n",
       " 517,\n",
       " 518,\n",
       " 519,\n",
       " 520,\n",
       " 521,\n",
       " 522,\n",
       " 523,\n",
       " 524,\n",
       " 525,\n",
       " 526,\n",
       " 527,\n",
       " 528,\n",
       " 529,\n",
       " 530,\n",
       " 531,\n",
       " 532,\n",
       " 533,\n",
       " 534,\n",
       " 535,\n",
       " 536,\n",
       " 537,\n",
       " 538,\n",
       " 539,\n",
       " 540,\n",
       " 541,\n",
       " 542,\n",
       " 543,\n",
       " 544,\n",
       " 545,\n",
       " 546,\n",
       " 547,\n",
       " 548,\n",
       " 549,\n",
       " 550,\n",
       " 551,\n",
       " 552,\n",
       " 553,\n",
       " 554,\n",
       " 555,\n",
       " 556,\n",
       " 557,\n",
       " 558,\n",
       " 559,\n",
       " 560,\n",
       " 561,\n",
       " 562,\n",
       " 563,\n",
       " 564,\n",
       " 565,\n",
       " 566,\n",
       " 567,\n",
       " 568,\n",
       " 569,\n",
       " 570,\n",
       " 571,\n",
       " 572,\n",
       " 573,\n",
       " 574,\n",
       " 575,\n",
       " 576,\n",
       " 577,\n",
       " 578,\n",
       " 579,\n",
       " 580,\n",
       " 581,\n",
       " 582,\n",
       " 583,\n",
       " 584,\n",
       " 585,\n",
       " 586,\n",
       " 587,\n",
       " 588,\n",
       " 589,\n",
       " 590,\n",
       " 591,\n",
       " 592,\n",
       " 593,\n",
       " 594,\n",
       " 595,\n",
       " 596,\n",
       " 597,\n",
       " 598,\n",
       " 599,\n",
       " 600,\n",
       " 601,\n",
       " 602,\n",
       " 603,\n",
       " 604,\n",
       " 605,\n",
       " 606,\n",
       " 607,\n",
       " 608,\n",
       " 609,\n",
       " 610,\n",
       " 611,\n",
       " 612,\n",
       " 613,\n",
       " 614,\n",
       " 615,\n",
       " 616,\n",
       " 617,\n",
       " 618,\n",
       " 619,\n",
       " 620,\n",
       " 621,\n",
       " 622,\n",
       " 623,\n",
       " 624,\n",
       " 625,\n",
       " 626,\n",
       " 627,\n",
       " 628,\n",
       " 629,\n",
       " 630,\n",
       " 631,\n",
       " 632,\n",
       " 633,\n",
       " 634,\n",
       " 635,\n",
       " 636,\n",
       " 637,\n",
       " 638,\n",
       " 639,\n",
       " 640,\n",
       " 641,\n",
       " 642,\n",
       " 643,\n",
       " 644,\n",
       " 645,\n",
       " 646,\n",
       " 647,\n",
       " 648,\n",
       " 649,\n",
       " 650,\n",
       " 651,\n",
       " 652,\n",
       " 653,\n",
       " 654,\n",
       " 655,\n",
       " 656,\n",
       " 657,\n",
       " 658,\n",
       " 659,\n",
       " 660,\n",
       " 661,\n",
       " 662,\n",
       " 663,\n",
       " 664,\n",
       " 665,\n",
       " 666,\n",
       " 667,\n",
       " 668,\n",
       " 669,\n",
       " 670,\n",
       " 671,\n",
       " 672,\n",
       " 673,\n",
       " 674,\n",
       " 675,\n",
       " 676,\n",
       " 677,\n",
       " 678,\n",
       " 679,\n",
       " 680,\n",
       " 681,\n",
       " 682,\n",
       " 683,\n",
       " 684,\n",
       " 685,\n",
       " 686,\n",
       " 687,\n",
       " 688,\n",
       " 689,\n",
       " 690,\n",
       " 691,\n",
       " 692,\n",
       " 693,\n",
       " 694,\n",
       " 695,\n",
       " 696,\n",
       " 697,\n",
       " 698,\n",
       " 699,\n",
       " 700,\n",
       " 701,\n",
       " 702,\n",
       " 703,\n",
       " 704,\n",
       " 705,\n",
       " 706,\n",
       " 707,\n",
       " 708,\n",
       " 709,\n",
       " 710,\n",
       " 711,\n",
       " 712,\n",
       " 713,\n",
       " 714,\n",
       " 715,\n",
       " 716,\n",
       " 717,\n",
       " 718,\n",
       " 719,\n",
       " 720,\n",
       " 721,\n",
       " 722,\n",
       " 723,\n",
       " 724,\n",
       " 725,\n",
       " 726,\n",
       " 727,\n",
       " 728,\n",
       " 729,\n",
       " 730,\n",
       " 731,\n",
       " 732,\n",
       " 733,\n",
       " 734,\n",
       " 735,\n",
       " 736,\n",
       " 737,\n",
       " 738,\n",
       " 739,\n",
       " 740,\n",
       " 741,\n",
       " 742,\n",
       " 743,\n",
       " 744,\n",
       " 745,\n",
       " 746,\n",
       " 747,\n",
       " 748,\n",
       " 749,\n",
       " 750,\n",
       " 751,\n",
       " 752,\n",
       " 753,\n",
       " 754,\n",
       " 755,\n",
       " 756,\n",
       " 757,\n",
       " 758,\n",
       " 759,\n",
       " 760,\n",
       " 761,\n",
       " 762,\n",
       " 763,\n",
       " 764,\n",
       " 765,\n",
       " 766,\n",
       " 767,\n",
       " 768,\n",
       " 769,\n",
       " 770,\n",
       " 771,\n",
       " 772,\n",
       " 773,\n",
       " 774,\n",
       " 775,\n",
       " 776,\n",
       " 777,\n",
       " 778,\n",
       " 779,\n",
       " 780,\n",
       " 781,\n",
       " 782,\n",
       " 783,\n",
       " 784,\n",
       " 785,\n",
       " 786,\n",
       " 787,\n",
       " 788,\n",
       " 789,\n",
       " 790,\n",
       " 791,\n",
       " 792,\n",
       " 793,\n",
       " 794,\n",
       " 795,\n",
       " 796,\n",
       " 797,\n",
       " 798,\n",
       " 799,\n",
       " 800,\n",
       " 801,\n",
       " 802,\n",
       " 803,\n",
       " 804,\n",
       " 805,\n",
       " 806,\n",
       " 807,\n",
       " 808,\n",
       " 809,\n",
       " 810,\n",
       " 811,\n",
       " 812,\n",
       " 813,\n",
       " 814,\n",
       " 815,\n",
       " 816,\n",
       " 817,\n",
       " 818,\n",
       " 819,\n",
       " 820,\n",
       " 821,\n",
       " 822,\n",
       " 823,\n",
       " 824,\n",
       " 825,\n",
       " 826,\n",
       " 827,\n",
       " 828,\n",
       " 829,\n",
       " 830,\n",
       " 831,\n",
       " 832,\n",
       " 833,\n",
       " 834,\n",
       " 835,\n",
       " 836,\n",
       " 837,\n",
       " 838,\n",
       " 839,\n",
       " 840,\n",
       " 841,\n",
       " 842,\n",
       " 843,\n",
       " 844,\n",
       " 845,\n",
       " 846,\n",
       " 847,\n",
       " 848,\n",
       " 849,\n",
       " 850,\n",
       " 851,\n",
       " 852,\n",
       " 853,\n",
       " 854,\n",
       " 855,\n",
       " 856,\n",
       " 857,\n",
       " 858,\n",
       " 859,\n",
       " 860,\n",
       " 861,\n",
       " 862,\n",
       " 863,\n",
       " 864,\n",
       " 865,\n",
       " 866,\n",
       " 867,\n",
       " 868,\n",
       " 869,\n",
       " 870,\n",
       " 871,\n",
       " 872,\n",
       " 873,\n",
       " 874,\n",
       " 875,\n",
       " 876,\n",
       " 877,\n",
       " 878,\n",
       " 879,\n",
       " 880,\n",
       " 881,\n",
       " 882,\n",
       " 883,\n",
       " 884,\n",
       " 885,\n",
       " 886,\n",
       " 887,\n",
       " 888,\n",
       " 889,\n",
       " 890,\n",
       " 891,\n",
       " 892,\n",
       " 893,\n",
       " 894,\n",
       " 895,\n",
       " 896,\n",
       " 897,\n",
       " 898,\n",
       " 899,\n",
       " 900,\n",
       " 901,\n",
       " 902,\n",
       " 903,\n",
       " 904,\n",
       " 905,\n",
       " 906,\n",
       " 907,\n",
       " 908,\n",
       " 909,\n",
       " 910,\n",
       " 911,\n",
       " 912,\n",
       " 913,\n",
       " 914,\n",
       " 915,\n",
       " 916,\n",
       " 917,\n",
       " 918,\n",
       " 919,\n",
       " 920,\n",
       " 921,\n",
       " 922,\n",
       " 923,\n",
       " 924,\n",
       " 925,\n",
       " 926,\n",
       " 927,\n",
       " 928,\n",
       " 929,\n",
       " 930,\n",
       " 931,\n",
       " 932,\n",
       " 933,\n",
       " 934,\n",
       " 935,\n",
       " 936,\n",
       " 937,\n",
       " 938,\n",
       " 939,\n",
       " 940,\n",
       " 941,\n",
       " 942,\n",
       " 943,\n",
       " 944,\n",
       " 945,\n",
       " 946,\n",
       " 947,\n",
       " 948,\n",
       " 949,\n",
       " 950,\n",
       " 951,\n",
       " 952,\n",
       " 953,\n",
       " 954,\n",
       " 955,\n",
       " 956,\n",
       " 957,\n",
       " 958,\n",
       " 959,\n",
       " 960,\n",
       " 961,\n",
       " 962,\n",
       " 963,\n",
       " 964,\n",
       " 965,\n",
       " 966,\n",
       " 967,\n",
       " 968,\n",
       " 969,\n",
       " 970,\n",
       " 971,\n",
       " 972,\n",
       " 973,\n",
       " 974,\n",
       " 975,\n",
       " 976,\n",
       " 977,\n",
       " 978,\n",
       " 979,\n",
       " 980,\n",
       " 981,\n",
       " 982,\n",
       " 983,\n",
       " 984,\n",
       " 985,\n",
       " 986,\n",
       " 987,\n",
       " 988,\n",
       " 989,\n",
       " 990,\n",
       " 991,\n",
       " 992,\n",
       " 993,\n",
       " 994,\n",
       " 995,\n",
       " 996,\n",
       " 997,\n",
       " 998,\n",
       " 999,\n",
       " 1000]"
      ]
     },
     "execution_count": 12,
     "metadata": {
      "tags": []
     },
     "output_type": "execute_result"
    }
   ],
   "source": [
    "# collect\n",
    "rdd.collect()"
   ]
  },
  {
   "cell_type": "markdown",
   "metadata": {
    "id": "yQd7RKW-AEK3"
   },
   "source": [
    "## Map functions\n",
    "\n",
    "Now that you've been working a little bit with RDDs, let's make this a little more interesting. Imagine you're running a hot new e-commerce startup called BuyStuff, and you're trying to track of how much it charges customers from each item sold. In the next cell, we're going to create simulated data by multiplying the values 1-1000 with a random number from 0-1."
   ]
  },
  {
   "cell_type": "code",
   "execution_count": 13,
   "metadata": {
    "colab": {
     "base_uri": "https://localhost:8080/",
     "height": 1000
    },
    "executionInfo": {
     "elapsed": 443,
     "status": "ok",
     "timestamp": 1601067529968,
     "user": {
      "displayName": "John Paul Hernandez",
      "photoUrl": "https://lh3.googleusercontent.com/a-/AOh14Gh5XuF9KA7x-2kMxR2qfYuAQXkju-3nakGwwKyLXw=s64",
      "userId": "12382617884956783957"
     },
     "user_tz": 300
    },
    "id": "-gjHPeuqAEK3",
    "outputId": "52cb083c-20ee-4406-d676-2365f02a428d"
   },
   "outputs": [
    {
     "data": {
      "text/plain": [
       "array([3.43442108e-01, 1.39464323e+00, 2.19310923e+00, 5.92328190e-01,\n",
       "       4.26571479e+00, 5.02275073e+00, 2.75055404e+00, 1.95750060e+00,\n",
       "       6.92977035e+00, 9.02904975e+00, 5.34404486e+00, 6.99274681e+00,\n",
       "       6.75839725e+00, 7.73004694e+00, 4.82424827e+00, 1.38904217e+01,\n",
       "       7.22181209e+00, 4.05045269e+00, 5.96145067e+00, 1.71844328e+01,\n",
       "       1.05201555e+00, 1.95779126e+01, 4.51802271e+00, 2.37604039e+00,\n",
       "       8.10690775e+00, 8.27292531e+00, 4.55045966e+00, 4.14572875e+00,\n",
       "       1.94602577e+01, 2.37904243e+01, 1.98736256e+01, 1.55840456e+01,\n",
       "       4.12976816e+00, 2.60410865e+01, 4.76585842e+00, 3.15221933e+01,\n",
       "       2.13193316e+00, 3.37601250e+01, 2.79456864e+00, 6.19725720e+00,\n",
       "       3.90813467e+01, 1.33182992e+01, 4.17628185e+01, 1.87872695e+01,\n",
       "       2.57503450e+01, 2.35329070e+01, 8.28614780e+00, 4.05535014e+00,\n",
       "       1.79377821e+00, 4.03310628e+01, 2.89823862e+01, 2.42491359e+01,\n",
       "       2.76312961e+01, 1.85753799e+01, 4.08723815e+01, 5.11236693e+01,\n",
       "       4.20787155e+01, 2.39749191e+01, 2.22438602e+01, 5.63957354e+01,\n",
       "       4.43431234e+01, 2.78252101e+01, 5.68279277e+01, 5.10918967e+01,\n",
       "       5.64242350e+01, 1.38163725e+01, 1.07027583e+01, 1.65024734e+00,\n",
       "       4.78447900e+01, 3.45965131e+01, 5.74535524e+01, 7.81887447e+00,\n",
       "       1.35518175e+01, 2.88392343e+00, 4.52972303e+01, 4.65088572e+01,\n",
       "       1.84010776e+01, 2.98064530e+01, 5.97699681e+01, 4.28932355e+01,\n",
       "       6.91825523e+01, 1.82935676e+01, 5.28628360e+01, 2.59003689e+01,\n",
       "       2.53916821e+01, 4.85856403e+01, 4.36103903e+01, 7.09771875e+01,\n",
       "       2.14578536e+01, 2.38308958e+01, 4.21349691e+00, 2.40742707e+01,\n",
       "       3.82457220e+01, 9.06591791e+01, 1.80074549e+01, 9.10228571e+01,\n",
       "       6.17367486e+01, 9.61811783e+01, 3.20227768e+01, 9.47559195e+01,\n",
       "       5.13917037e+01, 2.12235059e+01, 3.36080569e+01, 4.51201932e+01,\n",
       "       8.04800548e+01, 9.08237193e+01, 9.85300855e+01, 4.19000126e+00,\n",
       "       1.03401250e+02, 8.71939386e+01, 7.05157314e+01, 6.28931402e+01,\n",
       "       8.11070185e+00, 1.12487677e+01, 9.78919645e+01, 2.61491492e+01,\n",
       "       6.34922307e+01, 1.03525286e+02, 6.91272358e+00, 1.94265934e+01,\n",
       "       8.38873674e+01, 9.91865330e+01, 4.54151697e+01, 1.18867170e+01,\n",
       "       8.36992792e+01, 7.45512310e+01, 1.12574428e+02, 1.22351585e+02,\n",
       "       9.35165292e+01, 6.26861222e+01, 1.01815569e+02, 1.25072693e+02,\n",
       "       5.89499230e+01, 3.13397656e+01, 5.20872044e+01, 6.09382030e+00,\n",
       "       1.14526959e+02, 8.17267268e+01, 3.57796186e+01, 6.91086261e+01,\n",
       "       1.38451432e+02, 6.93435986e+01, 9.42999023e+01, 2.35749255e+01,\n",
       "       9.65716347e+01, 1.22792678e+02, 4.63086022e+01, 1.04599369e+02,\n",
       "       1.13668357e+01, 4.85215425e+01, 3.55063645e+01, 1.13152095e+02,\n",
       "       5.72846070e+01, 1.28432129e+02, 8.24422353e+01, 7.31236759e+01,\n",
       "       7.39664291e+01, 2.12539314e+01, 7.09342940e+00, 9.11963866e+01,\n",
       "       3.10250900e+00, 4.05178128e+00, 3.76192677e+00, 9.35174618e+01,\n",
       "       1.43852691e+02, 4.69614750e+01, 5.77891563e+01, 7.60567458e+01,\n",
       "       2.62260258e+01, 1.32543157e+02, 1.51461422e+02, 1.64620351e+02,\n",
       "       7.99500283e+00, 1.43209007e+00, 3.55312131e+01, 1.08259063e+02,\n",
       "       5.32060342e+01, 1.19065699e+02, 9.41074102e+01, 1.32741112e+02,\n",
       "       7.74685406e+01, 1.29210169e+01, 1.80815271e+02, 1.37099943e+02,\n",
       "       1.65017394e+02, 3.19372313e+01, 3.13428723e+01, 3.76805856e+01,\n",
       "       7.18982518e+01, 1.24253756e+02, 1.23936912e+02, 1.73292446e+02,\n",
       "       1.05221867e+02, 4.59993945e+01, 5.40756353e+01, 1.15238239e+02,\n",
       "       1.13890026e+02, 1.53329159e+02, 1.28099818e+02, 1.08747698e+02,\n",
       "       1.84143182e+02, 4.17881674e+01, 1.32066774e+02, 9.76952946e+01,\n",
       "       6.43145981e+01, 7.35442027e+01, 1.38371451e+02, 1.22287875e+02,\n",
       "       6.12308251e+01, 2.06060182e+02, 2.24160355e+01, 5.63762930e+01,\n",
       "       2.04206409e+02, 6.33510444e+01, 1.10990371e+02, 9.51573596e+01,\n",
       "       1.23215508e+02, 1.29595464e+02, 8.63521482e+01, 2.18827188e+02,\n",
       "       6.13170143e+01, 1.66345235e+02, 1.57131984e+02, 5.78397167e+01,\n",
       "       1.64423524e+02, 1.17028584e+02, 1.76509783e+02, 1.42082656e+02,\n",
       "       1.14525651e+02, 3.59910169e+01, 2.28747485e+02, 1.59337922e+02,\n",
       "       2.28471864e+02, 2.32481128e+02, 3.00412141e+01, 2.05170575e+02,\n",
       "       4.61501679e+01, 8.68461834e+01, 1.17032070e+02, 2.38193817e+02,\n",
       "       1.79714672e+02, 6.01174268e+01, 1.29556831e+02, 9.11671215e+01,\n",
       "       8.38436304e+01, 7.77667615e+01, 8.74762050e+01, 2.23521189e+02,\n",
       "       5.36640599e+01, 2.62677358e+01, 2.09690476e+02, 7.13632549e+01,\n",
       "       3.85530546e+00, 1.00268745e+01, 2.21585749e+02, 8.93885367e+00,\n",
       "       2.19577161e+01, 3.99449145e+01, 2.13106663e+02, 1.82023388e+02,\n",
       "       1.35711389e+02, 3.52172221e+01, 2.62427495e+02, 2.48536664e+02,\n",
       "       1.89783880e+02, 4.25745801e+01, 3.02164203e+01, 2.67706507e+02,\n",
       "       1.86879608e+02, 2.59042249e+01, 4.24987140e+01, 2.65978290e+02,\n",
       "       1.02955289e+02, 1.32929866e+02, 2.18677735e+02, 9.65934240e+01,\n",
       "       5.68209789e+01, 1.38354895e+02, 4.02879090e+01, 1.35086681e+02,\n",
       "       1.50728733e+02, 9.86212998e+01, 1.14827181e+02, 9.26786383e+01,\n",
       "       2.48154539e+02, 2.39711323e+02, 8.70673209e+01, 2.06775991e+02,\n",
       "       1.66815912e+02, 9.77775365e+01, 4.31548426e+01, 2.79747877e+02,\n",
       "       2.47866195e+02, 1.66359033e+02, 1.55514440e+02, 5.84479316e+01,\n",
       "       1.79373738e+02, 1.46863843e+02, 5.06412585e+01, 2.90704030e+02,\n",
       "       2.35959817e+02, 2.78577760e+02, 5.09740662e+01, 1.79130234e+02,\n",
       "       1.88460580e+02, 9.22210997e+01, 1.08749694e+02, 9.80600840e+01,\n",
       "       1.99616196e+02, 1.45692894e+02, 1.79354516e+02, 2.93716180e+01,\n",
       "       1.08374009e+02, 2.22839410e+02, 2.66636879e+01, 2.09151233e+02,\n",
       "       2.82438007e+02, 5.19721793e+01, 2.56487448e+02, 2.16117749e+02,\n",
       "       2.13280960e+02, 6.33884464e+01, 1.96022956e+01, 3.08793009e+02,\n",
       "       7.70708712e+01, 2.50030423e+02, 6.58800231e+01, 8.72499576e+01,\n",
       "       5.14065518e+01, 3.01695361e+02, 1.48851316e+01, 8.07675536e+01,\n",
       "       3.88589600e+01, 1.14973305e+02, 1.86558149e+02, 3.49031844e+01,\n",
       "       3.08842307e+02, 3.64784512e+01, 3.04448371e+02, 2.08161417e+02,\n",
       "       2.84302619e+02, 6.76387687e+01, 8.81443815e+01, 3.34840441e+02,\n",
       "       1.38396651e+02, 1.75553423e+02, 1.77442057e+02, 2.24789517e+02,\n",
       "       3.08020157e+02, 7.37332690e+01, 2.70841570e+02, 2.60311699e+01,\n",
       "       8.25576998e+01, 1.17363110e+02, 2.34279717e+02, 2.64574859e+02,\n",
       "       5.75623643e+01, 2.03761495e+02, 1.65509046e+02, 1.77911066e+02,\n",
       "       1.02912141e+02, 2.56803616e+02, 1.28134633e+02, 3.46205726e+02,\n",
       "       1.66961839e+02, 4.25009260e+01, 2.57806745e+02, 1.51327135e+02,\n",
       "       2.90371645e+02, 1.03270955e+01, 3.10789088e+02, 2.02439809e+02,\n",
       "       4.50163578e+01, 5.77726768e+01, 2.05796745e+02, 2.34938942e+01,\n",
       "       1.62737585e+02, 1.99634938e+02, 2.82327763e+02, 2.21273725e+01,\n",
       "       3.40919500e+02, 4.19998568e+01, 2.50843246e+02, 8.41962972e+01,\n",
       "       1.53748392e+02, 3.74730862e+01, 1.52266629e+02, 2.95198326e+02,\n",
       "       3.05554632e+02, 7.47536867e+01, 1.29961711e+02, 2.29056912e+02,\n",
       "       1.02524185e+02, 1.53873949e+02, 3.72283633e+02, 3.25659438e+02,\n",
       "       2.42306910e+02, 2.37546526e+02, 3.24239531e+02, 8.45502740e+01,\n",
       "       5.92427561e+00, 2.81627928e+02, 9.83498147e+01, 3.66709624e+02,\n",
       "       6.12871447e+01, 2.05999535e+02, 1.57831727e+02, 3.71143044e+02,\n",
       "       4.53541865e+01, 1.84405030e+02, 9.76041628e+01, 1.88545297e+02,\n",
       "       2.62130647e+02, 1.89096145e+02, 3.77266362e+02, 3.12325203e+02,\n",
       "       1.89164230e+02, 7.06010779e+01, 2.89906388e+02, 2.97881295e+02,\n",
       "       3.26995591e+02, 1.85505608e+02, 1.94772180e+01, 2.43050764e+02,\n",
       "       3.85666717e+02, 3.49286670e+02, 3.63314095e+02, 4.12272624e+02,\n",
       "       4.01094585e+02, 4.27692864e+01, 6.98583793e+01, 7.88389970e+01,\n",
       "       3.23091649e+02, 4.16182337e+02, 1.27893884e+02, 3.37516602e+02,\n",
       "       2.75720790e+02, 1.44824306e+02, 3.67848591e+02, 2.30356272e+02,\n",
       "       1.01934519e+02, 1.22400504e+02, 1.51358609e+02, 4.08534061e+02,\n",
       "       2.11345805e+02, 3.11664003e+02, 3.11198419e+02, 3.82789625e+02,\n",
       "       2.85012402e+02, 2.10172242e+02, 2.36657151e+02, 5.78705177e-02,\n",
       "       2.72113549e+02, 2.40974332e+02, 2.04105374e+02, 3.05582322e+02,\n",
       "       3.59964487e+02, 3.12649155e+02, 3.50557211e+02, 8.74083285e+01,\n",
       "       1.49250521e+02, 1.99820152e+02, 1.14205024e+02, 3.36455080e+02,\n",
       "       4.44452887e+02, 3.83262697e+01, 5.68998696e+01, 3.74313846e+02,\n",
       "       4.54409757e+02, 1.46136166e+02, 4.66228617e+02, 1.37301811e+02,\n",
       "       3.74133774e+02, 3.27803633e+02, 2.12277348e+02, 1.76170155e+02,\n",
       "       1.31594899e+02, 1.01276095e+02, 2.37056357e+02, 4.15407180e+02,\n",
       "       4.11071362e+02, 5.41316486e+01, 1.65587903e+02, 3.52492032e+02,\n",
       "       2.19330421e+02, 2.39830327e+02, 2.44071106e+02, 3.68759857e+01,\n",
       "       1.83344784e+02, 2.90601733e+02, 8.13701459e+01, 2.47244796e+02,\n",
       "       5.84177196e+01, 4.31037352e+02, 1.88353451e+02, 2.19456671e+02,\n",
       "       1.64890461e+02, 4.47552114e+02, 2.74187740e+02, 2.94660562e+02,\n",
       "       3.12758663e+02, 1.07098011e+01, 4.14739307e+02, 7.62459037e+01,\n",
       "       2.43146164e+02, 1.35586210e+02, 4.82128069e+02, 4.62765180e+02,\n",
       "       4.00574481e+02, 4.51132786e+02, 4.77914158e+02, 4.04051563e+02,\n",
       "       1.23673413e+02, 4.81208866e+02, 4.84007312e+02, 5.88030967e+01,\n",
       "       4.67643144e+02, 3.54269808e+02, 3.06277922e+02, 1.71255279e+02,\n",
       "       4.86225001e+02, 3.98458733e+02, 1.61947617e+02, 2.42531794e+02,\n",
       "       4.19981112e+02, 3.18243143e+02, 7.05649609e+01, 1.19178863e+02,\n",
       "       2.63013133e+02, 3.37681786e+02, 1.79628852e+02, 2.99601282e+02,\n",
       "       4.64745860e+02, 4.13398525e+02, 1.08740893e+02, 4.23407743e+02,\n",
       "       4.24545339e+02, 3.98954120e+02, 2.80045237e+02, 5.36626151e+01,\n",
       "       9.73126682e+01, 6.19892284e+01, 5.12089621e+02, 2.20610640e+02,\n",
       "       2.18609342e+02, 1.18639931e+02, 2.59170645e+01, 3.43838605e+02,\n",
       "       4.47953211e+02, 3.82273099e+02, 4.43241561e+02, 3.76046384e+02,\n",
       "       4.15111030e+02, 1.26618080e+02, 5.07032730e+02, 3.65206181e+02,\n",
       "       5.45086820e+02, 4.68937982e+02, 3.10992002e+02, 3.41305930e+01,\n",
       "       2.02425703e+01, 2.82292472e+02, 1.36104093e+02, 2.65025270e+02,\n",
       "       3.24104017e+02, 1.20420004e+02, 2.42613164e+02, 1.70139493e+02,\n",
       "       4.83472077e+02, 5.27959667e+02, 4.61840140e+02, 1.06423853e+02,\n",
       "       2.19697876e+02, 5.69050785e+02, 7.46343024e+01, 1.50798509e+02,\n",
       "       3.48671357e+02, 4.99472206e+02, 3.23152093e+02, 1.29781984e+01,\n",
       "       1.78593666e+02, 1.62356320e+02, 5.16020789e+02, 2.01788951e+02,\n",
       "       2.81405200e+02, 4.95961225e+02, 3.89188816e+01, 3.90939429e+02,\n",
       "       4.48484730e+02, 1.22266272e+02, 5.65881898e+02, 3.30631454e+02,\n",
       "       4.79483292e+02, 7.81675476e+00, 2.08951562e+02, 1.80828127e+02,\n",
       "       7.57258187e+01, 5.88104251e+02, 2.71887011e+01, 4.69616135e+02,\n",
       "       7.40287496e+01, 1.86201128e+02, 3.87576195e+02, 7.13801392e+01,\n",
       "       1.36697863e+02, 6.02940865e+02, 2.68208811e+01, 4.89703637e+02,\n",
       "       3.33170599e+02, 2.83376726e+02, 3.45376261e+02, 2.67621249e+02,\n",
       "       1.23046243e+02, 1.89613207e+02, 5.21036088e+02, 4.31809071e+02,\n",
       "       4.78212444e+02, 3.48237869e+02, 2.31956931e+02, 4.77715016e+02,\n",
       "       4.35378020e+02, 4.11998837e+02, 1.10317766e+02, 4.08621535e+02,\n",
       "       4.55512475e+01, 5.72289210e+02, 4.63128906e+02, 1.71818461e+01,\n",
       "       5.89142480e+02, 3.49595737e+02, 2.38077008e+02, 2.39725205e+02,\n",
       "       3.22233515e+01, 5.52026540e+02, 1.48083141e+02, 4.60563350e+02,\n",
       "       2.11526647e+02, 2.13621639e+02, 6.12169191e+02, 4.69252163e+01,\n",
       "       2.51571465e+01, 4.37609589e+02, 4.16305453e+02, 3.80599948e+02,\n",
       "       3.73791059e+02, 3.16395122e+02, 4.22656144e+01, 2.19855523e+02,\n",
       "       3.73713422e+02, 3.18210536e+02, 4.44353835e+02, 4.51770741e+02,\n",
       "       4.16811883e+02, 4.84808703e+02, 4.41020993e+02, 4.27458214e+02,\n",
       "       1.30318301e+02, 4.80109342e+02, 5.61584481e+02, 1.66083956e+01,\n",
       "       6.36189364e+02, 4.22780902e+01, 5.56390427e+02, 2.31815018e+01,\n",
       "       5.64588538e+02, 9.64332927e+01, 2.32638587e+02, 1.43800553e+02,\n",
       "       5.80085999e+02, 1.93519582e+02, 5.20938957e+02, 3.61490508e+02,\n",
       "       1.08944297e+02, 4.84563874e+02, 4.41870937e+02, 9.44631999e+01,\n",
       "       3.06331335e+02, 3.19113380e+02, 7.03535816e+01, 9.72070872e+00,\n",
       "       2.79394806e+02, 2.08127939e+02, 6.58376907e+02, 4.26668343e+02,\n",
       "       1.21592616e+02, 5.17745469e+02, 6.17985844e+02, 2.41774755e+02,\n",
       "       5.75941873e+02, 4.94034635e+02, 1.47371293e+02, 5.23176573e+02,\n",
       "       2.51469147e+02, 1.16116759e+02, 2.96005196e+02, 5.23789203e+01,\n",
       "       2.47062175e+02, 6.35677825e+02, 3.54437567e+01, 4.00221985e+02,\n",
       "       2.21030189e+02, 3.97967044e+02, 4.38231231e+02, 7.68838860e+01,\n",
       "       7.48549497e-01, 2.18942127e+02, 6.85407665e+02, 1.68032100e+02,\n",
       "       3.84056205e+02, 9.09332539e+01, 6.11530604e+01, 6.62719399e+02,\n",
       "       1.44197747e+02, 4.58896723e+02, 1.28810211e+00, 1.95002533e+02,\n",
       "       5.02782689e+02, 2.00201807e+02, 6.52675754e+02, 6.94951502e+02,\n",
       "       6.69989565e+02, 2.71566697e+02, 3.51075583e+02, 4.42089526e+02,\n",
       "       4.19856663e+02, 6.83759246e+02, 9.03667997e+01, 2.03070426e+02,\n",
       "       1.73633599e+01, 3.99075966e+02, 7.04547606e+02, 6.58081527e+02,\n",
       "       4.93961338e+02, 5.42128900e+02, 7.06938915e+01, 8.46570141e+01,\n",
       "       2.33440838e+02, 3.62219862e+02, 2.44631359e+01, 7.21080720e+02,\n",
       "       1.34086947e+02, 1.73206284e+01, 3.66344710e+02, 5.40374238e+02,\n",
       "       3.02402505e+02, 1.29437458e+02, 4.46691725e+02, 8.78867543e+01,\n",
       "       1.75509748e+02, 2.59557321e+02, 4.84450857e+02, 3.37595362e+02,\n",
       "       2.74859712e+02, 7.12837228e+01, 7.04057332e+02, 5.77408808e+01,\n",
       "       7.38179974e+01, 6.97197363e+02, 6.00718350e+02, 7.34130712e+02,\n",
       "       1.34720957e+02, 1.02107011e+02, 3.26165738e+02, 1.13170703e+02,\n",
       "       1.54084834e+02, 6.64344355e+02, 2.48316393e+01, 4.74601720e+02,\n",
       "       1.56828013e+02, 4.85800123e+01, 4.89905519e+02, 2.29503687e+02,\n",
       "       6.71749937e+02, 6.09485178e+02, 7.30276158e+02, 4.65971256e+02,\n",
       "       6.82919531e+02, 3.88302470e+02, 1.64701526e+02, 1.49958400e+02,\n",
       "       4.22824422e+02, 5.95034863e+02, 5.34289878e+02, 5.29468010e+02,\n",
       "       1.45225535e+02, 6.09722746e+01, 8.56190815e+01, 4.31300202e+02,\n",
       "       4.85855219e+02, 7.04691109e+02, 1.56451699e+02, 5.72628255e+02,\n",
       "       4.98248102e+02, 5.15361036e+02, 6.26890517e+02, 1.90127818e+02,\n",
       "       5.73232727e+01, 5.54778583e+01, 6.74026486e+02, 6.47918307e+02,\n",
       "       1.07151588e+01, 5.31427528e+02, 6.52692809e+02, 4.86087533e+02,\n",
       "       3.82047433e+02, 6.28653238e+02, 5.02270213e+02, 6.21463659e+01,\n",
       "       6.20391283e+02, 7.40233091e+02, 8.03571404e+02, 7.13344676e+02,\n",
       "       4.98503490e+02, 1.52774054e+02, 5.30465033e+02, 2.03083109e+02,\n",
       "       1.13663407e+02, 5.08059535e+01, 7.25202751e+02, 6.10178485e+02,\n",
       "       2.42961862e+01, 8.70418190e+01, 3.11015123e+02, 7.23992851e+02,\n",
       "       6.94085636e+02, 7.39963994e+02, 4.46741874e+02, 4.87916476e+02,\n",
       "       8.10546419e+02, 1.23515858e+02, 4.46373065e+02, 2.76302930e+02,\n",
       "       6.81108585e+02, 7.90413620e+02, 6.01647770e+02, 4.83868733e+02,\n",
       "       7.26502778e+02, 7.80839563e+02, 1.99447735e+01, 3.37762734e+02,\n",
       "       5.22803592e+02, 6.96103069e+02, 3.02466959e+02, 8.72738830e+01,\n",
       "       7.32840770e+02, 3.57593279e+02, 7.97224180e+01, 1.78251185e+02,\n",
       "       7.71049249e+02, 6.06477614e+02, 3.79792729e+02, 4.01372923e+02,\n",
       "       9.78646752e+01, 5.16702798e+02, 4.45398022e+02, 2.64477211e+02,\n",
       "       1.02463268e+02, 2.01866158e+01, 9.32901613e+01, 7.21457151e+02,\n",
       "       5.25107934e+02, 4.81116455e+02, 2.17891082e+02, 1.20982858e+02,\n",
       "       7.59165151e+02, 1.54696309e+02, 6.43779227e+02, 1.42908141e+01,\n",
       "       2.46893455e+02, 2.28024534e+02, 2.61690783e+02, 8.23237432e+02,\n",
       "       3.15017201e+02, 6.43790571e+01, 1.10181557e+02, 1.21237149e+02,\n",
       "       4.21670822e+02, 1.83123246e+02, 6.64979700e+02, 4.79368316e+02,\n",
       "       7.53554592e+02, 8.76287155e+02, 2.41225152e+02, 5.44528819e+02,\n",
       "       1.10465471e+02, 3.49989084e+02, 4.37675854e+02, 1.82438533e+02,\n",
       "       4.38693981e+02, 2.07747220e+02, 8.37251246e+02, 3.53974179e+02,\n",
       "       2.78217187e+02, 4.96040879e+01, 6.55313131e+02, 2.55996167e+02,\n",
       "       1.40714138e+02, 7.78313319e+02, 2.66233283e+02, 1.11246517e+02,\n",
       "       7.95863940e+02, 2.93340279e+02, 4.19309233e+02, 4.76073784e+02,\n",
       "       8.47064290e+02, 5.30463375e+02, 2.86693009e+02, 6.50641881e+01,\n",
       "       8.37937911e+02, 7.50535306e+02, 2.47676411e+02, 3.05589483e+02,\n",
       "       8.15752889e+02, 5.48984925e+02, 4.10465489e+02, 4.10036540e+02,\n",
       "       3.93067905e+02, 8.16136294e+02, 2.28152670e+02, 8.93647686e+02,\n",
       "       2.68548430e+02, 1.71342737e+02, 1.49342656e+02, 6.65262194e+02,\n",
       "       4.36112380e+02, 7.39633377e+01, 6.18072827e+02, 2.69175438e+02,\n",
       "       4.21020439e+02, 5.25828003e+01, 2.40998873e+02, 5.12475303e+02,\n",
       "       8.99297045e+02, 2.93506114e+02, 6.27496131e+02, 8.03029934e+02,\n",
       "       3.89505307e+02, 3.58326181e+02, 3.43743606e+02, 8.51255442e+02,\n",
       "       8.28700704e+02, 6.04193157e+02, 5.57697472e+02, 1.19248565e+02,\n",
       "       3.15984154e+02, 8.78654569e+02, 7.85711938e+02, 5.98702144e+02,\n",
       "       7.79036366e+02, 3.62947502e+02, 6.80502743e+02, 5.98025603e+01,\n",
       "       2.44522676e+00, 5.60401387e+02, 3.29911323e+02, 8.77154678e+02,\n",
       "       7.21102001e+02, 9.30487806e+02, 2.99114129e+02, 1.35474974e+02,\n",
       "       2.52931268e+02, 3.36353139e+02, 1.87264091e+02, 8.31472973e+02,\n",
       "       8.96932832e+02, 4.34547989e+02, 1.46740207e+02, 3.53169107e+02,\n",
       "       8.23445630e+02, 1.42633288e+01, 1.90672333e+01, 8.74191582e+02,\n",
       "       3.56642534e+02, 6.78806518e+02, 4.62031680e+02, 3.32027470e+02,\n",
       "       6.48136896e+02, 8.12589903e+02, 7.43594039e+02, 8.38866664e+02,\n",
       "       1.39004268e+02, 7.35731759e+02, 7.10543012e+02, 3.55956767e+02,\n",
       "       3.52938806e+01, 9.18476101e+02, 8.21106250e+02, 5.51078365e+02,\n",
       "       2.61758740e+02, 6.37153251e+02, 5.54596985e+02, 5.00344661e+02,\n",
       "       3.57094260e+02, 3.98231717e+02, 1.24226801e+02, 6.24804627e+02,\n",
       "       5.47326007e+02, 2.04810599e+02, 2.67496656e+02, 6.28885206e+02])"
      ]
     },
     "execution_count": 13,
     "metadata": {
      "tags": []
     },
     "output_type": "execute_result"
    }
   ],
   "source": [
    "import random\n",
    "import numpy as np\n",
    "\n",
    "nums = np.array(range(1, 1001))\n",
    "sales_figures = nums * np.random.rand(1000)\n",
    "sales_figures"
   ]
  },
  {
   "cell_type": "markdown",
   "metadata": {
    "id": "ppMzO9zhAEK5"
   },
   "source": [
    "We now have sales prices for 1000 items currently for sale at BuyStuff. Now create an RDD called `price_items` using the newly created data with 10 slices. After you create it, use one of the basic actions to see what's in the RDD."
   ]
  },
  {
   "cell_type": "code",
   "execution_count": 15,
   "metadata": {
    "colab": {
     "base_uri": "https://localhost:8080/",
     "height": 85
    },
    "executionInfo": {
     "elapsed": 482,
     "status": "ok",
     "timestamp": 1601067792037,
     "user": {
      "displayName": "John Paul Hernandez",
      "photoUrl": "https://lh3.googleusercontent.com/a-/AOh14Gh5XuF9KA7x-2kMxR2qfYuAQXkju-3nakGwwKyLXw=s64",
      "userId": "12382617884956783957"
     },
     "user_tz": 300
    },
    "id": "9k6G9zNqAEK5",
    "outputId": "76ea2564-c9c3-4e19-c6dd-4cd93693d77e"
   },
   "outputs": [
    {
     "data": {
      "text/plain": [
       "[0.34344210786439855,\n",
       " 1.3946432333499241,\n",
       " 2.1931092282021343,\n",
       " 0.5923281903233097]"
      ]
     },
     "execution_count": 15,
     "metadata": {
      "tags": []
     },
     "output_type": "execute_result"
    }
   ],
   "source": [
    "price_items = sc.parallelize(c=sales_figures, numSlices=10)\n",
    "price_items.take(4)"
   ]
  },
  {
   "cell_type": "markdown",
   "metadata": {
    "id": "8kFUaVwmAEK7"
   },
   "source": [
    "Now let's perform some operations on this simple dataset. To begin with, create a function that will take into account how much money BuyStuff will receive after sales tax has been applied (assume a sales tax of 8%). To make this happen, create a function called `sales_tax()` that returns the amount of money our company will receive after the sales tax has been applied. The function will have this parameter:\n",
    "\n",
    "* `item`: (float) number to be multiplied by the sales tax.\n",
    "\n",
    "\n",
    "Apply that function to the rdd by using the `.map()` method and assign it to a variable `renenue_minus_tax`"
   ]
  },
  {
   "cell_type": "code",
   "execution_count": 18,
   "metadata": {
    "executionInfo": {
     "elapsed": 518,
     "status": "ok",
     "timestamp": 1601068048366,
     "user": {
      "displayName": "John Paul Hernandez",
      "photoUrl": "https://lh3.googleusercontent.com/a-/AOh14Gh5XuF9KA7x-2kMxR2qfYuAQXkju-3nakGwwKyLXw=s64",
      "userId": "12382617884956783957"
     },
     "user_tz": 300
    },
    "id": "0iDGeyr-AEK7"
   },
   "outputs": [],
   "source": [
    "def sales_tax(num):\n",
    "    return num*0.92\n",
    "\n",
    "revenue_minus_tax = price_items.map(sales_tax)"
   ]
  },
  {
   "cell_type": "markdown",
   "metadata": {
    "id": "M9GVKiQ2AEK9"
   },
   "source": [
    "Remember, Spark has __lazy evaluation__, which means that the `sales_tax()` function is a transformer that is not executed until you call an action. Use one of the collection methods to execute the transformer now a part of the RDD and observe the contents of the `revenue_minus_tax` rdd."
   ]
  },
  {
   "cell_type": "code",
   "execution_count": 19,
   "metadata": {
    "colab": {
     "base_uri": "https://localhost:8080/",
     "height": 187
    },
    "executionInfo": {
     "elapsed": 456,
     "status": "ok",
     "timestamp": 1601068050675,
     "user": {
      "displayName": "John Paul Hernandez",
      "photoUrl": "https://lh3.googleusercontent.com/a-/AOh14Gh5XuF9KA7x-2kMxR2qfYuAQXkju-3nakGwwKyLXw=s64",
      "userId": "12382617884956783957"
     },
     "user_tz": 300
    },
    "id": "NiJtfMLrAEK-",
    "outputId": "c8e8541d-10ab-489d-8e98-bfbdd56acc23",
    "scrolled": true
   },
   "outputs": [
    {
     "data": {
      "text/plain": [
       "[0.31596673923524665,\n",
       " 1.2830717746819302,\n",
       " 2.0176604899459636,\n",
       " 0.544941935097445,\n",
       " 3.924457603377964,\n",
       " 4.620930669532201,\n",
       " 2.5305097147387086,\n",
       " 1.8009005527899715,\n",
       " 6.375388720117275,\n",
       " 8.306725774193088]"
      ]
     },
     "execution_count": 19,
     "metadata": {
      "tags": []
     },
     "output_type": "execute_result"
    }
   ],
   "source": [
    "# perform action to retrieve rdd values\n",
    "revenue_minus_tax.take(10)"
   ]
  },
  {
   "cell_type": "markdown",
   "metadata": {
    "id": "PY9g1ZZxAEK_"
   },
   "source": [
    "### Lambda Functions\n",
    "\n",
    "Note that you can also use lambda functions if you want to quickly perform simple operations on data without creating a function. Let's assume that BuyStuff has also decided to offer a 10% discount on all of their items on the pre-tax amounts of each item. Use a lambda function within a `.map()` method to apply the additional 10% loss in revenue for BuyStuff and assign the transformed RDD to a new RDD called `discounted`."
   ]
  },
  {
   "cell_type": "code",
   "execution_count": 20,
   "metadata": {
    "executionInfo": {
     "elapsed": 453,
     "status": "ok",
     "timestamp": 1601068142557,
     "user": {
      "displayName": "John Paul Hernandez",
      "photoUrl": "https://lh3.googleusercontent.com/a-/AOh14Gh5XuF9KA7x-2kMxR2qfYuAQXkju-3nakGwwKyLXw=s64",
      "userId": "12382617884956783957"
     },
     "user_tz": 300
    },
    "id": "-bIieUmcAELA"
   },
   "outputs": [],
   "source": [
    "discounted = revenue_minus_tax.map(lambda x: x*0.90)"
   ]
  },
  {
   "cell_type": "code",
   "execution_count": 21,
   "metadata": {
    "colab": {
     "base_uri": "https://localhost:8080/",
     "height": 187
    },
    "executionInfo": {
     "elapsed": 485,
     "status": "ok",
     "timestamp": 1601068144162,
     "user": {
      "displayName": "John Paul Hernandez",
      "photoUrl": "https://lh3.googleusercontent.com/a-/AOh14Gh5XuF9KA7x-2kMxR2qfYuAQXkju-3nakGwwKyLXw=s64",
      "userId": "12382617884956783957"
     },
     "user_tz": 300
    },
    "id": "0z0Gxre8AELC",
    "outputId": "742aa6ed-45c9-4f94-edaf-4a5a11a0cff6",
    "scrolled": true
   },
   "outputs": [
    {
     "data": {
      "text/plain": [
       "[0.284370065311722,\n",
       " 1.1547645972137373,\n",
       " 1.8158944409513673,\n",
       " 0.49044774158770055,\n",
       " 3.5320118430401677,\n",
       " 4.158837602578981,\n",
       " 2.277458743264838,\n",
       " 1.6208104975109745,\n",
       " 5.737849848105548,\n",
       " 7.47605319677378]"
      ]
     },
     "execution_count": 21,
     "metadata": {
      "tags": []
     },
     "output_type": "execute_result"
    }
   ],
   "source": [
    "discounted.take(10)"
   ]
  },
  {
   "cell_type": "markdown",
   "metadata": {
    "id": "-kiKAJFyAELE"
   },
   "source": [
    "## Chaining Methods\n",
    "\n",
    "You are also able to chain methods together with Spark. In one line, remove the tax and discount from the revenue of BuyStuff and use a collection method to see the 15 costliest items."
   ]
  },
  {
   "cell_type": "code",
   "execution_count": 22,
   "metadata": {
    "colab": {
     "base_uri": "https://localhost:8080/",
     "height": 272
    },
    "executionInfo": {
     "elapsed": 836,
     "status": "ok",
     "timestamp": 1601068185346,
     "user": {
      "displayName": "John Paul Hernandez",
      "photoUrl": "https://lh3.googleusercontent.com/a-/AOh14Gh5XuF9KA7x-2kMxR2qfYuAQXkju-3nakGwwKyLXw=s64",
      "userId": "12382617884956783957"
     },
     "user_tz": 300
    },
    "id": "7-HRCSy_AELE",
    "outputId": "bc2c8569-5ed9-49dd-a8c4-798847dd62f2",
    "scrolled": true
   },
   "outputs": [
    {
     "data": {
      "text/plain": [
       "[770.4439037347075,\n",
       " 760.4982113609099,\n",
       " 744.6179532361793,\n",
       " 742.6603850082206,\n",
       " 739.9402843224501,\n",
       " 727.5259831595159,\n",
       " 726.2840736505747,\n",
       " 725.5657642288173,\n",
       " 723.8306297128767,\n",
       " 704.8395060651628,\n",
       " 701.369231711703,\n",
       " 694.5815979439706,\n",
       " 693.8125899223018,\n",
       " 693.2440317100086,\n",
       " 688.4596218397954]"
      ]
     },
     "execution_count": 22,
     "metadata": {
      "tags": []
     },
     "output_type": "execute_result"
    }
   ],
   "source": [
    "price_items.map(sales_tax).map(lambda x: x*0.90).top(15)"
   ]
  },
  {
   "cell_type": "markdown",
   "metadata": {
    "id": "YVNVKBn_AELG"
   },
   "source": [
    "## RDD Lineage\n",
    "\n",
    "\n",
    "We are able to see the full lineage of all the operations that have been performed on an RDD by using the `RDD.toDebugString()` method. As your transformations become more complex, you are encouraged to call this method to get a better understanding of the dependencies between RDDs. Try calling it on the `discounted` RDD to see what RDDs it is dependent on."
   ]
  },
  {
   "cell_type": "code",
   "execution_count": 23,
   "metadata": {
    "colab": {
     "base_uri": "https://localhost:8080/",
     "height": 54
    },
    "executionInfo": {
     "elapsed": 415,
     "status": "ok",
     "timestamp": 1601068221346,
     "user": {
      "displayName": "John Paul Hernandez",
      "photoUrl": "https://lh3.googleusercontent.com/a-/AOh14Gh5XuF9KA7x-2kMxR2qfYuAQXkju-3nakGwwKyLXw=s64",
      "userId": "12382617884956783957"
     },
     "user_tz": 300
    },
    "id": "_cPwqvo9AELG",
    "outputId": "8ce673f8-bb3a-45f4-aa9d-32bf318c07ca"
   },
   "outputs": [
    {
     "data": {
      "text/plain": [
       "b'(10) PythonRDD[13] at RDD at PythonRDD.scala:53 []\\n |   ParallelCollectionRDD[7] at parallelize at PythonRDD.scala:195 []'"
      ]
     },
     "execution_count": 23,
     "metadata": {
      "tags": []
     },
     "output_type": "execute_result"
    }
   ],
   "source": [
    "discounted.toDebugString()"
   ]
  },
  {
   "cell_type": "markdown",
   "metadata": {
    "id": "B7bUX3SAAELH"
   },
   "source": [
    "### Map vs. Flatmap\n",
    "\n",
    "Depending on how you want your data to be outputted, you might want to use `.flatMap()` rather than a simple `.map()`. Let's take a look at how it performs operations versus the standard map. Let's say we wanted to maintain the original amount BuyStuff receives for each item as well as the new amount after the tax and discount are applied. Create a map function that will return a tuple with (original price, post-discount price)."
   ]
  },
  {
   "cell_type": "code",
   "execution_count": 24,
   "metadata": {
    "colab": {
     "base_uri": "https://localhost:8080/",
     "height": 71
    },
    "executionInfo": {
     "elapsed": 923,
     "status": "ok",
     "timestamp": 1601068317424,
     "user": {
      "displayName": "John Paul Hernandez",
      "photoUrl": "https://lh3.googleusercontent.com/a-/AOh14Gh5XuF9KA7x-2kMxR2qfYuAQXkju-3nakGwwKyLXw=s64",
      "userId": "12382617884956783957"
     },
     "user_tz": 300
    },
    "id": "7rZaxzIuAELI",
    "outputId": "c1cd999e-4a57-4fff-afdb-c6b368d1c8de"
   },
   "outputs": [
    {
     "name": "stdout",
     "output_type": "stream",
     "text": [
      "1000\n",
      "[(0.34344210786439855, 0.284370065311722), (1.3946432333499241, 1.1547645972137373), (2.1931092282021343, 1.8158944409513673), (0.5923281903233097, 0.49044774158770055), (4.2657147862803955, 3.5320118430401677), (5.022750727752392, 4.158837602578981), (2.750554037759466, 2.277458743264838), (1.9575006008586646, 1.6208104975109745), (6.92977034795356, 5.737849848105548), (9.029049754557704, 7.47605319677378)]\n"
     ]
    }
   ],
   "source": [
    "mapped = price_items.map(lambda x: (x, x*0.92*0.90))\n",
    "print(mapped.count())\n",
    "print(mapped.take(10))"
   ]
  },
  {
   "cell_type": "markdown",
   "metadata": {
    "id": "oJ3zojYMAELJ"
   },
   "source": [
    "Note that we have 1000 tuples created to our specification. Let's take a look at how `.flatMap()` differs in its implementation. Use the `.flatMap()` method with the same function you created above."
   ]
  },
  {
   "cell_type": "code",
   "execution_count": 25,
   "metadata": {
    "colab": {
     "base_uri": "https://localhost:8080/",
     "height": 71
    },
    "executionInfo": {
     "elapsed": 838,
     "status": "ok",
     "timestamp": 1601068403540,
     "user": {
      "displayName": "John Paul Hernandez",
      "photoUrl": "https://lh3.googleusercontent.com/a-/AOh14Gh5XuF9KA7x-2kMxR2qfYuAQXkju-3nakGwwKyLXw=s64",
      "userId": "12382617884956783957"
     },
     "user_tz": 300
    },
    "id": "9dfBfBdCAELJ",
    "outputId": "4b81f868-665f-4a0b-ac22-1e9510476f25"
   },
   "outputs": [
    {
     "name": "stdout",
     "output_type": "stream",
     "text": [
      "2000\n",
      "[0.34344210786439855, 0.284370065311722, 1.3946432333499241, 1.1547645972137373, 2.1931092282021343, 1.8158944409513673, 0.5923281903233097, 0.49044774158770055, 4.2657147862803955, 3.5320118430401677]\n"
     ]
    }
   ],
   "source": [
    "flat_mapped = price_items.flatMap(lambda x: (x, x*0.92*0.90))\n",
    "print(flat_mapped.count())\n",
    "print(flat_mapped.take(10))"
   ]
  },
  {
   "cell_type": "markdown",
   "metadata": {
    "id": "IJCx87xjAELL"
   },
   "source": [
    "Rather than being represented by tuples, all of the  values are now on the same level. When we are trying to combine different items together, it is sometimes necessary to use `.flatMap()` rather than `.map()` in order to properly reduce to our specifications. This is not one of those instances, but in the upcoming lab, you just might have to use it."
   ]
  },
  {
   "cell_type": "markdown",
   "metadata": {
    "id": "EvL2Dlg9AELL"
   },
   "source": [
    "## Filter\n",
    "After meeting with some external consultants, BuyStuff has determined that its business will be more profitable if it focuses on higher ticket items. Now, use the `.filter()` method to select items that bring in more than $300 after tax and discount have been removed. A filter method is a specialized form of a map function that only returns the items that match a certain criterion. In the cell below:\n",
    "* use a lambda function within a `.filter()` method to meet the consultant's suggestion's specifications. set `RDD = selected_items`\n",
    "* calculate the total number of items remaining in BuyStuff's inventory"
   ]
  },
  {
   "cell_type": "code",
   "execution_count": 26,
   "metadata": {
    "colab": {
     "base_uri": "https://localhost:8080/",
     "height": 34
    },
    "executionInfo": {
     "elapsed": 650,
     "status": "ok",
     "timestamp": 1601068563353,
     "user": {
      "displayName": "John Paul Hernandez",
      "photoUrl": "https://lh3.googleusercontent.com/a-/AOh14Gh5XuF9KA7x-2kMxR2qfYuAQXkju-3nakGwwKyLXw=s64",
      "userId": "12382617884956783957"
     },
     "user_tz": 300
    },
    "id": "DK1HXl9hAELM",
    "outputId": "bda01912-6c85-43c5-9e2c-e46c9a72f162"
   },
   "outputs": [
    {
     "data": {
      "text/plain": [
       "269"
      ]
     },
     "execution_count": 26,
     "metadata": {
      "tags": []
     },
     "output_type": "execute_result"
    }
   ],
   "source": [
    "# use the filter function\n",
    "selected_items = discounted.filter(lambda x: x>300)\n",
    "\n",
    "# calculate total remaining in inventory \n",
    "selected_items.count()"
   ]
  },
  {
   "cell_type": "markdown",
   "metadata": {
    "id": "VOCWqZ33AELN"
   },
   "source": [
    "## Reduce\n",
    "\n",
    "Reduce functions are where you are in some way combing all of the variables that you have mapped out. Here is an example of how a reduce function works when the task is to sum all values:\n",
    "\n",
    "<img src = \"./images/reduce_function.png\" width = \"600\">  \n",
    "\n",
    "\n",
    "As you can see, the operation is performed within each partition first, after which, the results of the computations in each partition are combined to come up with one final answer.  \n",
    "\n",
    "Now it's time to figure out how much money BuyStuff would make from selling one of all of its items after they've reduced their inventory. Use the `.reduce()` method with a lambda function to add up all of the values in the RDD. Your lambda function should have two variables. "
   ]
  },
  {
   "cell_type": "code",
   "execution_count": 27,
   "metadata": {
    "colab": {
     "base_uri": "https://localhost:8080/",
     "height": 34
    },
    "executionInfo": {
     "elapsed": 696,
     "status": "ok",
     "timestamp": 1601068665488,
     "user": {
      "displayName": "John Paul Hernandez",
      "photoUrl": "https://lh3.googleusercontent.com/a-/AOh14Gh5XuF9KA7x-2kMxR2qfYuAQXkju-3nakGwwKyLXw=s64",
      "userId": "12382617884956783957"
     },
     "user_tz": 300
    },
    "id": "WT2BNtxLAELN",
    "outputId": "1f140efe-7a81-4b0f-f087-a0f2fdbb56a9"
   },
   "outputs": [
    {
     "data": {
      "text/plain": [
       "124150.35931104477"
      ]
     },
     "execution_count": 27,
     "metadata": {
      "tags": []
     },
     "output_type": "execute_result"
    }
   ],
   "source": [
    "selected_items.reduce(lambda x, y: x+y)"
   ]
  },
  {
   "cell_type": "markdown",
   "metadata": {
    "id": "Z1ej7N1-AELQ"
   },
   "source": [
    "The time has come for BuyStuff to open up shop and start selling its goods. It only has one of each item, but it's allowing 50 lucky users to buy as many items as they want while they remain in stock. Within seconds, BuyStuff is sold out. Below, you'll find the sales data in an RDD with tuples of (user, item bought)."
   ]
  },
  {
   "cell_type": "code",
   "execution_count": 28,
   "metadata": {
    "colab": {
     "base_uri": "https://localhost:8080/",
     "height": 136
    },
    "executionInfo": {
     "elapsed": 698,
     "status": "ok",
     "timestamp": 1601068736512,
     "user": {
      "displayName": "John Paul Hernandez",
      "photoUrl": "https://lh3.googleusercontent.com/a-/AOh14Gh5XuF9KA7x-2kMxR2qfYuAQXkju-3nakGwwKyLXw=s64",
      "userId": "12382617884956783957"
     },
     "user_tz": 300
    },
    "id": "8nGsMU_hAELQ",
    "outputId": "e926ed29-f4b3-4576-af14-5da98f232b1f"
   },
   "outputs": [
    {
     "data": {
      "text/plain": [
       "[(20, 308.2508484010061),\n",
       " (20, 303.6355686358445),\n",
       " (45, 307.30644059679),\n",
       " (44, 312.37654799202227),\n",
       " (29, 319.33204199767124),\n",
       " (50, 300.8240706871311),\n",
       " (27, 341.36173308484655)]"
      ]
     },
     "execution_count": 28,
     "metadata": {
      "tags": []
     },
     "output_type": "execute_result"
    }
   ],
   "source": [
    "import random\n",
    "random.seed(42)\n",
    "# generating simulated users that have bought each item\n",
    "sales_data = selected_items.map(lambda x: (random.randint(1, 50), x))\n",
    "\n",
    "sales_data.take(7)"
   ]
  },
  {
   "cell_type": "markdown",
   "metadata": {
    "id": "xYHOQLvKAELS"
   },
   "source": [
    "It's time to determine some basic statistics about BuyStuff users.\n",
    "\n",
    "Let's start off by creating an RDD that determines how much each user spent in total.\n",
    "To do this we can use a method called `.reduceByKey()` to perform reducing operations while grouping by keys. After you have calculated the total, use the `.sortBy()` method on the RDD to rank the users from the highest spending to the least spending. "
   ]
  },
  {
   "cell_type": "code",
   "execution_count": 29,
   "metadata": {
    "colab": {
     "base_uri": "https://localhost:8080/",
     "height": 187
    },
    "executionInfo": {
     "elapsed": 1608,
     "status": "ok",
     "timestamp": 1601068854917,
     "user": {
      "displayName": "John Paul Hernandez",
      "photoUrl": "https://lh3.googleusercontent.com/a-/AOh14Gh5XuF9KA7x-2kMxR2qfYuAQXkju-3nakGwwKyLXw=s64",
      "userId": "12382617884956783957"
     },
     "user_tz": 300
    },
    "id": "y6soXCyIAELS",
    "outputId": "249fa506-228a-4ef5-a7b3-21e29684c8ea"
   },
   "outputs": [
    {
     "data": {
      "text/plain": [
       "[(20, 6457.506437548453),\n",
       " (50, 2627.603818791067),\n",
       " (40, 4515.184508021432),\n",
       " (10, 1766.947467881192),\n",
       " (1, 3322.093023292661),\n",
       " (31, 2870.690217646441),\n",
       " (21, 1311.5083792148282),\n",
       " (11, 3189.4805303825424),\n",
       " (41, 742.6603850082206),\n",
       " (2, 1648.0928226559863)]"
      ]
     },
     "execution_count": 29,
     "metadata": {
      "tags": []
     },
     "output_type": "execute_result"
    }
   ],
   "source": [
    "# calculate how much each user spent\n",
    "total_spent = sales_data.reduceByKey(lambda x, y: x + y)\n",
    "total_spent.take(10)"
   ]
  },
  {
   "cell_type": "code",
   "execution_count": 30,
   "metadata": {
    "colab": {
     "base_uri": "https://localhost:8080/",
     "height": 850
    },
    "executionInfo": {
     "elapsed": 2105,
     "status": "ok",
     "timestamp": 1601068914961,
     "user": {
      "displayName": "John Paul Hernandez",
      "photoUrl": "https://lh3.googleusercontent.com/a-/AOh14Gh5XuF9KA7x-2kMxR2qfYuAQXkju-3nakGwwKyLXw=s64",
      "userId": "12382617884956783957"
     },
     "user_tz": 300
    },
    "id": "OwmDkNSCAELU",
    "outputId": "28a7adbe-67de-4fec-fe0d-b9b05e2773a1"
   },
   "outputs": [
    {
     "data": {
      "text/plain": [
       "[(20, 6457.506437548453),\n",
       " (27, 5054.244363817098),\n",
       " (29, 4994.112440772038),\n",
       " (44, 4962.128784665479),\n",
       " (12, 4631.325650235638),\n",
       " (40, 4515.184508021432),\n",
       " (4, 4472.81088661592),\n",
       " (23, 4133.525794308985),\n",
       " (6, 3975.9526688263),\n",
       " (36, 3694.556479216165),\n",
       " (24, 3550.570492151493),\n",
       " (19, 3534.037362601346),\n",
       " (1, 3322.093023292661),\n",
       " (28, 3242.3544198741383),\n",
       " (11, 3189.4805303825424),\n",
       " (22, 2944.8226839167987),\n",
       " (31, 2870.690217646441),\n",
       " (39, 2794.632691357184),\n",
       " (3, 2747.3346281079375),\n",
       " (17, 2724.155603806672),\n",
       " (35, 2679.3306931992997),\n",
       " (9, 2668.545017095037),\n",
       " (50, 2627.603818791067),\n",
       " (49, 2395.9708468795097),\n",
       " (5, 2287.059788402787),\n",
       " (8, 2162.0477852027266),\n",
       " (18, 2091.9931726805153),\n",
       " (15, 2081.514184740955),\n",
       " (7, 2075.040191951624),\n",
       " (43, 2035.852854427705),\n",
       " (48, 1953.6431010871033),\n",
       " (16, 1907.3494826422652),\n",
       " (10, 1766.947467881192),\n",
       " (47, 1720.0826704773413),\n",
       " (2, 1648.0928226559863),\n",
       " (34, 1605.61711988957),\n",
       " (14, 1366.7189824727247),\n",
       " (21, 1311.5083792148282),\n",
       " (45, 1239.0402013113376),\n",
       " (32, 1077.652452344907),\n",
       " (13, 1042.871206396338),\n",
       " (26, 1022.230669265308),\n",
       " (38, 1017.2297016241644),\n",
       " (33, 860.9077416967714),\n",
       " (37, 798.5850894986052),\n",
       " (25, 756.7671350195337),\n",
       " (41, 742.6603850082206),\n",
       " (42, 704.1583334913524),\n",
       " (46, 691.8183485312845)]"
      ]
     },
     "execution_count": 30,
     "metadata": {
      "tags": []
     },
     "output_type": "execute_result"
    }
   ],
   "source": [
    "# sort the users from highest to lowest spenders\n",
    "total_spent.sortBy(lambda x: x[1],ascending = False).collect()"
   ]
  },
  {
   "cell_type": "markdown",
   "metadata": {
    "id": "blYaNJP-AELV"
   },
   "source": [
    "Next, let's determine how many items were bought per user. This can be solved in one line using an RDD method. After you've counted the total number of items bought per person, sort the users from most number of items bought to least number of items. Time to start a customer loyalty program!"
   ]
  },
  {
   "cell_type": "code",
   "execution_count": 31,
   "metadata": {
    "colab": {
     "base_uri": "https://localhost:8080/",
     "height": 782
    },
    "executionInfo": {
     "elapsed": 690,
     "status": "ok",
     "timestamp": 1601068963776,
     "user": {
      "displayName": "John Paul Hernandez",
      "photoUrl": "https://lh3.googleusercontent.com/a-/AOh14Gh5XuF9KA7x-2kMxR2qfYuAQXkju-3nakGwwKyLXw=s64",
      "userId": "12382617884956783957"
     },
     "user_tz": 300
    },
    "id": "1-5rFaxSAELW",
    "outputId": "b473d793-ea8e-4ff8-9a39-54a344fccb2f"
   },
   "outputs": [
    {
     "data": {
      "text/plain": [
       "[(28, 13),\n",
       " (24, 12),\n",
       " (27, 12),\n",
       " (23, 11),\n",
       " (40, 11),\n",
       " (42, 10),\n",
       " (17, 10),\n",
       " (14, 9),\n",
       " (2, 8),\n",
       " (20, 8),\n",
       " (15, 8),\n",
       " (22, 7),\n",
       " (50, 7),\n",
       " (5, 7),\n",
       " (44, 7),\n",
       " (31, 6),\n",
       " (30, 6),\n",
       " (38, 6),\n",
       " (9, 6),\n",
       " (3, 6),\n",
       " (26, 6),\n",
       " (16, 6),\n",
       " (36, 5),\n",
       " (12, 5),\n",
       " (21, 5),\n",
       " (8, 5),\n",
       " (29, 5),\n",
       " (41, 5),\n",
       " (43, 5),\n",
       " (48, 4),\n",
       " (35, 4),\n",
       " (33, 4),\n",
       " (1, 4),\n",
       " (18, 4),\n",
       " (13, 4),\n",
       " (39, 4),\n",
       " (4, 4),\n",
       " (49, 4),\n",
       " (34, 3),\n",
       " (6, 3),\n",
       " (19, 3),\n",
       " (25, 2),\n",
       " (11, 2),\n",
       " (47, 2),\n",
       " (45, 1)]"
      ]
     },
     "execution_count": 31,
     "metadata": {
      "tags": []
     },
     "output_type": "execute_result"
    }
   ],
   "source": [
    "total_items = sales_data.countByKey()\n",
    "sorted(total_items.items(),key=lambda kv:kv[1],reverse=True)"
   ]
  },
  {
   "cell_type": "markdown",
   "metadata": {
    "id": "aKdlAk0LAELZ"
   },
   "source": [
    "### Additional Reading\n",
    "\n",
    "- [The original paper on RDDs](https://cs.stanford.edu/~matei/papers/2012/nsdi_spark.pdf)\n",
    "- [RDDs in Apache Spark](https://data-flair.training/blogs/create-rdds-in-apache-spark/)\n",
    "- [Programming with RDDs](https://runawayhorse001.github.io/LearningApacheSpark/rdd.html)\n",
    "- [RDD Transformations and Actions Summary](https://www.analyticsvidhya.com/blog/2016/10/using-pyspark-to-perform-transformations-and-actions-on-rdd/)"
   ]
  },
  {
   "cell_type": "markdown",
   "metadata": {
    "id": "c_DuWZ-9AELZ"
   },
   "source": [
    "## Summary\n",
    "\n",
    "In this lab we went through a brief introduction to RDD creation from a Python collection, setting a number of logical partitions for an RDD and extracting lineage. We also used transformations and actions to perform calculations across RDDs on a distributed setup. In the next lab, you'll get the chance to apply these transformations on different books to calculate word counts and various statistics.\n"
   ]
  }
 ],
 "metadata": {
  "colab": {
   "name": "index.ipynb",
   "provenance": []
  },
  "kernelspec": {
   "display_name": "Python 3",
   "language": "python",
   "name": "python3"
  },
  "language_info": {
   "codemirror_mode": {
    "name": "ipython",
    "version": 3
   },
   "file_extension": ".py",
   "mimetype": "text/x-python",
   "name": "python",
   "nbconvert_exporter": "python",
   "pygments_lexer": "ipython3",
   "version": "3.6.10"
  },
  "toc": {
   "base_numbering": 1,
   "nav_menu": {},
   "number_sections": false,
   "sideBar": true,
   "skip_h1_title": false,
   "title_cell": "Table of Contents",
   "title_sidebar": "Contents",
   "toc_cell": false,
   "toc_position": {},
   "toc_section_display": true,
   "toc_window_display": false
  }
 },
 "nbformat": 4,
 "nbformat_minor": 1
}
